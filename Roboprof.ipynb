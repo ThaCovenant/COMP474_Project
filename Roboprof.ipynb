{
 "cells": [
  {
   "cell_type": "markdown",
   "metadata": {},
   "source": [
    "**COMP474 PROJECT ASSIGNMENT 1**"
   ]
  },
  {
   "cell_type": "code",
   "execution_count": 3,
   "metadata": {},
   "outputs": [
    {
     "name": "stdout",
     "output_type": "stream",
     "text": [
      "Requirement already satisfied: rdflib in c:\\users\\huy-l\\appdata\\local\\programs\\python\\python310\\lib\\site-packages (7.0.0)Note: you may need to restart the kernel to use updated packages.\n"
     ]
    },
    {
     "name": "stderr",
     "output_type": "stream",
     "text": [
      "\n",
      "[notice] A new release of pip available: 22.3.1 -> 24.0\n",
      "[notice] To update, run: python.exe -m pip install --upgrade pip\n"
     ]
    },
    {
     "name": "stdout",
     "output_type": "stream",
     "text": [
      "\n",
      "Requirement already satisfied: pyparsing<4,>=2.1.0 in c:\\users\\huy-l\\appdata\\local\\programs\\python\\python310\\lib\\site-packages (from rdflib) (3.1.2)\n",
      "Requirement already satisfied: isodate<0.7.0,>=0.6.0 in c:\\users\\huy-l\\appdata\\local\\programs\\python\\python310\\lib\\site-packages (from rdflib) (0.6.1)\n",
      "Requirement already satisfied: six in c:\\users\\huy-l\\appdata\\roaming\\python\\python310\\site-packages (from isodate<0.7.0,>=0.6.0->rdflib) (1.16.0)\n"
     ]
    }
   ],
   "source": [
    "pip install rdflib"
   ]
  },
  {
   "cell_type": "code",
   "execution_count": 1,
   "metadata": {},
   "outputs": [],
   "source": [
    "from rdflib import URIRef, BNode, Literal, Namespace, Graph\n",
    "from rdflib.namespace import FOAF, RDF, RDFS"
   ]
  },
  {
   "cell_type": "code",
   "execution_count": 6,
   "metadata": {},
   "outputs": [
    {
     "data": {
      "text/plain": [
       "<Graph identifier=N2a0b70f5d2704e92952a2bd5cb9569b0 (<class 'rdflib.graph.Graph'>)>"
      ]
     },
     "execution_count": 6,
     "metadata": {},
     "output_type": "execute_result"
    }
   ],
   "source": [
    "\"\"\"\n",
    "TO DO:\n",
    "Automate the process somehow for scalability.\n",
    "Add missing information as required by project handout.\n",
    "\"\"\"\n",
    "#Building graph\n",
    "g = Graph()\n",
    "\n",
    "#Building knowledge graph\n",
    "\"\"\"\n",
    "example.org links are temporary placeholder. Needs to be changed.\n",
    "\"\"\"\n",
    "university = Namespace(\"https://www.wikidata.org/wiki/Q326342\")\n",
    "course = Namespace(\"http://example.org/course/\")\n",
    "person = Namespace(\"http://example.org/person/\")\n",
    "lecture = Namespace(\"http://example.org/lecture/\")\n",
    "assignment = Namespace(\"http://example.org/assignment/\")\n",
    "exam = Namespace(\"http://example.org/exam/\")\n",
    "\n",
    "#Defining Resources\n",
    "#g.add((university.University, RDF.type, FOAF.Organization))\n",
    "#g.add((university.University, FOAF.name, Literal(\"Concordia University\")))\n",
    "g.add((university.University, RDF.type, RDFS.Class))\n",
    "g.add((university.Course, RDF.type, RDFS.Class))\n",
    "g.add((university.Lecture, RDF.type, RDFS.Class))\n",
    "g.add((university.Assignment, RDF.type, RDFS.Class))\n",
    "g.add((university.Exam, RDF.type, RDFS.Class))\n",
    "g.add((person.Student, RDF.type, RDFS.Class))\n",
    "\n",
    "\n",
    "#Defining properties\n",
    "g.add((university.name, RDF.type, RDF.Property))\n",
    "g.add((university.name, RDFS.domain, RDFS.Resource))\n",
    "g.add((university.name, RDFS.range, RDFS.Literal))\n",
    "\n",
    "\n",
    "\n",
    "\n",
    "\n",
    "\n",
    "\n",
    "\n",
    "g.add((university.University, RDF.type, RDFS.Class))\n",
    "g.add((university.University, RDFS.label, Literal(\"Concordia University\")))\n",
    "\n",
    "g.add((course.Course1, RDF.type, university.Course))\n",
    "g.add((course.Course1, university.name, Literal(\"Intellingent Systems\")))\n",
    "g.add((course.Course1, university.level, Literal(\"Undergraduate\")))\n",
    "g.add((course.Course1, university.courseCode, Literal(\"COMP 474\")))\n",
    "g.add((course.Course1, university.description, Literal(\"Rule-based expert systems, blackboard architecture, and agent-based. Knowledge acquisition and representation. Uncertainty and conflict resolution. Reasoning and explanation. Design of intelligent systems. Project.\")))\n",
    "g.add((course.Course1, university.offeredBy, university.University))\n",
    "\n",
    "\n",
    "#Adding Students\n",
    "\"\"\"\n",
    "g.add((person.Student1, RDF.type, FOAF.Person))\n",
    "g.add((person.Student1, FOAF.firstName, Literal(\"Huy-Long\")))\n",
    "g.add((person.Student1, FOAF.lastName, Literal(\"Tran\")))\n",
    "g.add((person.Student1, FOAF.mbox, Literal(\"huy-longtran@hotmail.com\")))\n",
    "g.add((person.Student1, university.studentID, Literal(\"40076313\")))\n",
    "#g.add((person.Student1, university.completedCourse, Literal(\"\")))\n",
    "g.add((person.Student1, university.enrolledIn, course.Course1))\n",
    "#g.add((person.Student1, university.grade, Literal(\"B\")))\n",
    "\"\"\"\n",
    "\n",
    "g.add((person.Student1, RDF.type, person.Student))\n",
    "g.add((person.Student1, university.firstName, Literal(\"Huy-Long\")))\n",
    "g.add((person.Student1, university.lastName, Literal(\"Tran\")))\n",
    "g.add((person.Student1, university.mbox, Literal(\"huy-longtran@hotmail.com\")))\n",
    "g.add((person.Student1, university.studentID, Literal(\"40076313\")))\n",
    "#g.add((person.Student1, university.completedCourse, Literal(\"\")))\n",
    "g.add((person.Student1, university.enrolledIn, course.Course1))\n",
    "#g.add((person.Student1, university.grade, Literal(\"B\")))\n",
    "\n",
    "#Adding Lectures\n",
    "g.add((lecture.Lecture1, RDF.type, university.Lecture))\n",
    "g.add((lecture.Lecture1, university.lectureName, Literal(\"Introduction to Machine Learning\")))\n",
    "g.add((lecture.Lecture1, university.course, course.Course1))\n",
    "\n",
    "\n",
    "g.add((assignment.Assignment1, RDF.type, university.Assignment))\n",
    "g.add((assignment.Assignment1, university.course, course.Course1))\n",
    "g.add((assignment.Assignment1, university.student, person.Student1))\n",
    "#g.add((assignment.Assignment1, university.grade, Literal(\"C\")))\n",
    "\n",
    "g.add((exam.Exam1, RDF.type, university.Exam))\n",
    "g.add((exam.Exam1, university.course, course.Course1))\n",
    "g.add((exam.Exam1, university.student, person.Student1))\n",
    "#g.add((exam.Exam1, university.grade, Literal(\"C\")))\n",
    "\n",
    "\n",
    "\n",
    "\n",
    "\n",
    "\n",
    "\n",
    "\n"
   ]
  },
  {
   "cell_type": "code",
   "execution_count": 10,
   "metadata": {},
   "outputs": [
    {
     "name": "stdout",
     "output_type": "stream",
     "text": [
      "@prefix foaf: <http://xmlns.com/foaf/0.1/> .\n",
      "@prefix ns1: <https://www.wikidata.org/wiki/> .\n",
      "\n",
      "<http://example.org/lecture/Lecture1> a ns1:Q326342Lecture ;\n",
      "    ns1:Q326342course <http://example.org/course/Course1> ;\n",
      "    ns1:Q326342lectureName \"Introduction to Machine Learning\" .\n",
      "\n",
      "<http://example.org/person/Student1> a foaf:Person ;\n",
      "    foaf:firstName \"Huy-Long\" ;\n",
      "    foaf:lastName \"Tran\" ;\n",
      "    foaf:mbox \"huy-longtran@hotmail.com\" ;\n",
      "    ns1:Q326342enrolledIn <http://example.org/course/Course1> ;\n",
      "    ns1:Q326342studentID \"40076313\" .\n",
      "\n",
      "ns1:Q326342University a foaf:Organization ;\n",
      "    foaf:name \"Concordia University\" .\n",
      "\n",
      "<http://example.org/course/Course1> a ns1:Q326342Course ;\n",
      "    ns1:Q326342courseCode \"COMP 474\" ;\n",
      "    ns1:Q326342description \"Rule-based expert systems, blackboard architecture, and agent-based. Knowledge acquisition and representation. Uncertainty and conflict resolution. Reasoning and explanation. Design of intelligent systems. Project.\" ;\n",
      "    ns1:Q326342level \"Undergraduate\" ;\n",
      "    ns1:Q326342name \"Intellingent Systems\" ;\n",
      "    ns1:Q326342offeredBy ns1:Q326342University .\n",
      "\n",
      "\n"
     ]
    }
   ],
   "source": [
    "#Serialize the graph\n",
    "#print(g.serialize(format=\"turtle\").decode(\"utf-8\"))\n",
    "print(g.serialize(format=\"turtle\"))"
   ]
  },
  {
   "cell_type": "code",
   "execution_count": 16,
   "metadata": {},
   "outputs": [
    {
     "data": {
      "text/plain": [
       "Namespace('https://www.wikidata.org/wiki/Q326342')"
      ]
     },
     "execution_count": 16,
     "metadata": {},
     "output_type": "execute_result"
    }
   ],
   "source": [
    "university"
   ]
  },
  {
   "cell_type": "code",
   "execution_count": null,
   "metadata": {},
   "outputs": [],
   "source": [
    "#Adding Triples to graph\n",
    "\n",
    "g.bind(\"foaf\", FOAF)"
   ]
  },
  {
   "cell_type": "markdown",
   "metadata": {},
   "source": [
    "**Knowledge Graph Queries**"
   ]
  },
  {
   "cell_type": "code",
   "execution_count": null,
   "metadata": {},
   "outputs": [],
   "source": [
    "\"\"\"\n",
    "TO DO:\n",
    "List all courses offered by [university]\n",
    "In which course is [topic] discussed?\n",
    "Which [topics] are covered in [course] during [lecture number]?\n",
    "List all [courses] orffered by [university] within the [subject]\n",
    "What [materials] are recommended for [topic] in [course][number]?\n",
    "How many credits is [course] [number worth?]\n",
    "For [course][number], what additional resources are available?\n",
    "Detail the content available for [lecture number] in [course][number]\n",
    "What reading materials are recommended for studying [topic] in [course]?\n",
    "What competencies [topics] does a student gain after completing [course][number]?\n",
    "What grades did [student] achieve in [course][number]?\n",
    "Wwhich [students] have completed [course][number]?\n",
    "Print a transcript for a [student], listing all the course taken with their grades\n",
    "\n",
    "\"\"\""
   ]
  }
 ],
 "metadata": {
  "kernelspec": {
   "display_name": "Python 3",
   "language": "python",
   "name": "python3"
  },
  "language_info": {
   "codemirror_mode": {
    "name": "ipython",
    "version": 3
   },
   "file_extension": ".py",
   "mimetype": "text/x-python",
   "name": "python",
   "nbconvert_exporter": "python",
   "pygments_lexer": "ipython3",
   "version": "3.10.10"
  }
 },
 "nbformat": 4,
 "nbformat_minor": 2
}
