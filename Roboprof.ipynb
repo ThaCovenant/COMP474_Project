{
 "cells": [
  {
   "cell_type": "markdown",
   "metadata": {},
   "source": [
    "**COMP474 PROJECT ASSIGNMENT 1**"
   ]
  },
  {
   "cell_type": "code",
   "execution_count": 1,
   "metadata": {},
   "outputs": [
    {
     "name": "stdout",
     "output_type": "stream",
     "text": [
      "Collecting rdflib\n",
      "  Downloading rdflib-7.0.0-py3-none-any.whl (531 kB)\n",
      "     ------------------------------------- 531.9/531.9 kB 16.8 MB/s eta 0:00:00\n",
      "Collecting isodate<0.7.0,>=0.6.0\n",
      "  Downloading isodate-0.6.1-py2.py3-none-any.whl (41 kB)\n",
      "     ---------------------------------------- 41.7/41.7 kB ? eta 0:00:00\n",
      "Collecting pyparsing<4,>=2.1.0\n",
      "  Downloading pyparsing-3.1.2-py3-none-any.whl (103 kB)\n",
      "     -------------------------------------- 103.2/103.2 kB 5.8 MB/s eta 0:00:00\n",
      "Requirement already satisfied: six in c:\\users\\huy-l\\appdata\\roaming\\python\\python310\\site-packages (from isodate<0.7.0,>=0.6.0->rdflib) (1.16.0)\n",
      "Installing collected packages: pyparsing, isodate, rdflib\n",
      "Successfully installed isodate-0.6.1 pyparsing-3.1.2 rdflib-7.0.0\n",
      "Note: you may need to restart the kernel to use updated packages.\n"
     ]
    },
    {
     "name": "stderr",
     "output_type": "stream",
     "text": [
      "\n",
      "[notice] A new release of pip available: 22.3.1 -> 24.0\n",
      "[notice] To update, run: python.exe -m pip install --upgrade pip\n"
     ]
    }
   ],
   "source": [
    "pip install rdflib"
   ]
  },
  {
   "cell_type": "code",
   "execution_count": 2,
   "metadata": {},
   "outputs": [],
   "source": [
    "from rdflib import URIRef, BNode, Literal, Namespace, Graph\n",
    "from rdflib.namespace import FOAF, RDF"
   ]
  },
  {
   "cell_type": "code",
   "execution_count": null,
   "metadata": {},
   "outputs": [],
   "source": [
    "#Building graph\n",
    "g = rdflib.Graph()\n",
    "\n",
    "#Building knowledge graph\n",
    "university = Namespace(\"https://www.wikidata.org/wiki/Q326342\")\n",
    "#course = Namespace(\"\")\n",
    "\n",
    "g.add((university.University, RDF.type, FOAF.Organization))\n",
    "g.add((university.University, FOAF.name, Literal(\"Concordia University\")))\n",
    "\n",
    "#g.add((course.Course1, RDF.type, university.Course))\n",
    "#g.add((course.Course1, university.name, Literal(\"Intellingent Systems\")))\n",
    "#g.add((course.Course1, university.level, Literal(\"Undergraduate\")))\n",
    "#g.add((course.Course1, university.courseCode, Literal(\"COMP 474\")))\n",
    "#g.add((course.Course1, university.offeredBy, university.University))\n"
   ]
  },
  {
   "cell_type": "code",
   "execution_count": null,
   "metadata": {},
   "outputs": [],
   "source": [
    "#Adding Triples to graph\n",
    "\n",
    "g.bind(\"foaf\", FOAF)"
   ]
  }
 ],
 "metadata": {
  "kernelspec": {
   "display_name": "Python 3",
   "language": "python",
   "name": "python3"
  },
  "language_info": {
   "codemirror_mode": {
    "name": "ipython",
    "version": 3
   },
   "file_extension": ".py",
   "mimetype": "text/x-python",
   "name": "python",
   "nbconvert_exporter": "python",
   "pygments_lexer": "ipython3",
   "version": "3.10.10"
  }
 },
 "nbformat": 4,
 "nbformat_minor": 2
}
