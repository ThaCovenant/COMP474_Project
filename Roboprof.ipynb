{
 "cells": [
  {
   "cell_type": "markdown",
   "metadata": {},
   "source": [
    "**COMP474 PROJECT ASSIGNMENT 1**"
   ]
  },
  {
   "cell_type": "code",
   "execution_count": 3,
   "metadata": {},
   "outputs": [
    {
     "name": "stdout",
     "output_type": "stream",
     "text": [
      "Requirement already satisfied: rdflib in c:\\users\\huy-l\\appdata\\local\\programs\\python\\python310\\lib\\site-packages (7.0.0)Note: you may need to restart the kernel to use updated packages.\n"
     ]
    },
    {
     "name": "stderr",
     "output_type": "stream",
     "text": [
      "\n",
      "[notice] A new release of pip available: 22.3.1 -> 24.0\n",
      "[notice] To update, run: python.exe -m pip install --upgrade pip\n"
     ]
    },
    {
     "name": "stdout",
     "output_type": "stream",
     "text": [
      "\n",
      "Requirement already satisfied: pyparsing<4,>=2.1.0 in c:\\users\\huy-l\\appdata\\local\\programs\\python\\python310\\lib\\site-packages (from rdflib) (3.1.2)\n",
      "Requirement already satisfied: isodate<0.7.0,>=0.6.0 in c:\\users\\huy-l\\appdata\\local\\programs\\python\\python310\\lib\\site-packages (from rdflib) (0.6.1)\n",
      "Requirement already satisfied: six in c:\\users\\huy-l\\appdata\\roaming\\python\\python310\\site-packages (from isodate<0.7.0,>=0.6.0->rdflib) (1.16.0)\n"
     ]
    }
   ],
   "source": [
    "pip install rdflib"
   ]
  },
  {
   "cell_type": "code",
   "execution_count": 1,
   "metadata": {},
   "outputs": [],
   "source": [
    "from rdflib import URIRef, BNode, Literal, Namespace, Graph\n",
    "from rdflib.namespace import FOAF, RDF, RDFS"
   ]
  },
  {
   "cell_type": "code",
   "execution_count": 6,
   "metadata": {},
   "outputs": [
    {
     "data": {
      "text/plain": [
       "<Graph identifier=N2a0b70f5d2704e92952a2bd5cb9569b0 (<class 'rdflib.graph.Graph'>)>"
      ]
     },
     "execution_count": 6,
     "metadata": {},
     "output_type": "execute_result"
    }
   ],
   "source": [
    "\"\"\"\n",
    "TO DO:\n",
    "Automate the process somehow for scalability.\n",
    "Add missing information as required by project handout.\n",
    "\"\"\"\n",
    "#Building graph\n",
    "g = Graph()\n",
    "\n",
    "#Building knowledge graph\n",
    "\"\"\"\n",
    "example.org links are temporary placeholder. Needs to be changed.\n",
    "\"\"\"\n",
    "university = Namespace(\"https://www.wikidata.org/wiki/Q326342\")\n",
    "course = Namespace(\"http://example.org/course/\")\n",
    "person = Namespace(\"http://example.org/person/\")\n",
    "lecture = Namespace(\"http://example.org/lecture/\")\n",
    "assignment = Namespace(\"http://example.org/assignment/\")\n",
    "exam = Namespace(\"http://example.org/exam/\")\n",
    "\n",
    "#Defining Resources\n",
    "#g.add((university.University, RDF.type, FOAF.Organization))\n",
    "#g.add((university.University, FOAF.name, Literal(\"Concordia University\")))\n",
    "g.add((university.University, RDF.type, RDFS.Class))\n",
    "g.add((university.Course, RDF.type, RDFS.Class))\n",
    "g.add((university.Lecture, RDF.type, RDFS.Class))\n",
    "g.add((university.Assignment, RDF.type, RDFS.Class))\n",
    "g.add((university.Exam, RDF.type, RDFS.Class))\n",
    "g.add((person.Student, RDF.type, RDFS.Class))\n",
    "\n",
    "\n",
    "#Defining properties\n",
    "g.add((university.name, RDF.type, RDF.Property))\n",
    "g.add((university.name, RDFS.domain, RDFS.Resource))\n",
    "g.add((university.name, RDFS.range, RDFS.Literal))\n",
    "\n",
    "\n",
    "\n",
    "\n",
    "\n",
    "\n",
    "\n",
    "\n",
    "g.add((university.University, RDF.type, RDFS.Class))\n",
    "g.add((university.University, RDFS.label, Literal(\"Concordia University\")))\n",
    "\n",
    "g.add((course.Course1, RDF.type, university.Course))\n",
    "g.add((course.Course1, university.name, Literal(\"Intellingent Systems\")))\n",
    "g.add((course.Course1, university.level, Literal(\"Undergraduate\")))\n",
    "g.add((course.Course1, university.courseCode, Literal(\"COMP 474\")))\n",
    "g.add((course.Course1, university.description, Literal(\"Rule-based expert systems, blackboard architecture, and agent-based. Knowledge acquisition and representation. Uncertainty and conflict resolution. Reasoning and explanation. Design of intelligent systems. Project.\")))\n",
    "g.add((course.Course1, university.offeredBy, university.University))\n",
    "\n",
    "\n",
    "#Adding Students\n",
    "\"\"\"\n",
    "g.add((person.Student1, RDF.type, FOAF.Person))\n",
    "g.add((person.Student1, FOAF.firstName, Literal(\"Huy-Long\")))\n",
    "g.add((person.Student1, FOAF.lastName, Literal(\"Tran\")))\n",
    "g.add((person.Student1, FOAF.mbox, Literal(\"huy-longtran@hotmail.com\")))\n",
    "g.add((person.Student1, university.studentID, Literal(\"40076313\")))\n",
    "#g.add((person.Student1, university.completedCourse, Literal(\"\")))\n",
    "g.add((person.Student1, university.enrolledIn, course.Course1))\n",
    "#g.add((person.Student1, university.grade, Literal(\"B\")))\n",
    "\"\"\"\n",
    "\n",
    "g.add((person.Student1, RDF.type, person.Student))\n",
    "g.add((person.Student1, university.firstName, Literal(\"Huy-Long\")))\n",
    "g.add((person.Student1, university.lastName, Literal(\"Tran\")))\n",
    "g.add((person.Student1, university.mbox, Literal(\"huy-longtran@hotmail.com\")))\n",
    "g.add((person.Student1, university.studentID, Literal(\"40076313\")))\n",
    "#g.add((person.Student1, university.completedCourse, Literal(\"\")))\n",
    "g.add((person.Student1, university.enrolledIn, course.Course1))\n",
    "#g.add((person.Student1, university.grade, Literal(\"B\")))\n",
    "\n",
    "#Adding Lectures\n",
    "g.add((lecture.Lecture1, RDF.type, university.Lecture))\n",
    "g.add((lecture.Lecture1, university.lectureName, Literal(\"Introduction to Machine Learning\")))\n",
    "g.add((lecture.Lecture1, university.course, course.Course1))\n",
    "\n",
    "\n",
    "g.add((assignment.Assignment1, RDF.type, university.Assignment))\n",
    "g.add((assignment.Assignment1, university.course, course.Course1))\n",
    "g.add((assignment.Assignment1, university.student, person.Student1))\n",
    "#g.add((assignment.Assignment1, university.grade, Literal(\"C\")))\n",
    "\n",
    "g.add((exam.Exam1, RDF.type, university.Exam))\n",
    "g.add((exam.Exam1, university.course, course.Course1))\n",
    "g.add((exam.Exam1, university.student, person.Student1))\n",
    "#g.add((exam.Exam1, university.grade, Literal(\"C\")))\n",
    "\n",
    "\n",
    "\n",
    "\n",
    "\n",
    "\n",
    "\n",
    "\n"
   ]
  },
  {
   "cell_type": "code",
   "execution_count": 10,
   "metadata": {},
   "outputs": [
    {
     "name": "stdout",
     "output_type": "stream",
     "text": [
      "@prefix foaf: <http://xmlns.com/foaf/0.1/> .\n",
      "@prefix ns1: <https://www.wikidata.org/wiki/> .\n",
      "\n",
      "<http://example.org/lecture/Lecture1> a ns1:Q326342Lecture ;\n",
      "    ns1:Q326342course <http://example.org/course/Course1> ;\n",
      "    ns1:Q326342lectureName \"Introduction to Machine Learning\" .\n",
      "\n",
      "<http://example.org/person/Student1> a foaf:Person ;\n",
      "    foaf:firstName \"Huy-Long\" ;\n",
      "    foaf:lastName \"Tran\" ;\n",
      "    foaf:mbox \"huy-longtran@hotmail.com\" ;\n",
      "    ns1:Q326342enrolledIn <http://example.org/course/Course1> ;\n",
      "    ns1:Q326342studentID \"40076313\" .\n",
      "\n",
      "ns1:Q326342University a foaf:Organization ;\n",
      "    foaf:name \"Concordia University\" .\n",
      "\n",
      "<http://example.org/course/Course1> a ns1:Q326342Course ;\n",
      "    ns1:Q326342courseCode \"COMP 474\" ;\n",
      "    ns1:Q326342description \"Rule-based expert systems, blackboard architecture, and agent-based. Knowledge acquisition and representation. Uncertainty and conflict resolution. Reasoning and explanation. Design of intelligent systems. Project.\" ;\n",
      "    ns1:Q326342level \"Undergraduate\" ;\n",
      "    ns1:Q326342name \"Intellingent Systems\" ;\n",
      "    ns1:Q326342offeredBy ns1:Q326342University .\n",
      "\n",
      "\n"
     ]
    }
   ],
   "source": [
    "#Serialize the graph\n",
    "#print(g.serialize(format=\"turtle\").decode(\"utf-8\"))\n",
    "print(g.serialize(format=\"turtle\"))"
   ]
  },
  {
   "cell_type": "code",
   "execution_count": 16,
   "metadata": {},
   "outputs": [
    {
     "data": {
      "text/plain": [
       "Namespace('https://www.wikidata.org/wiki/Q326342')"
      ]
     },
     "execution_count": 16,
     "metadata": {},
     "output_type": "execute_result"
    }
   ],
   "source": [
    "university"
   ]
  },
  {
   "cell_type": "code",
   "execution_count": null,
   "metadata": {},
   "outputs": [],
   "source": [
    "#Adding Triples to graph\n",
    "\n",
    "g.bind(\"foaf\", FOAF)"
   ]
  },
  {
   "cell_type": "markdown",
   "metadata": {},
   "source": [
    "**Knowledge Graph Queries**"
   ]
  },
  {
   "cell_type": "code",
   "execution_count": 47,
   "metadata": {},
   "outputs": [
    {
     "name": "stdout",
     "output_type": "stream",
     "text": [
      "13\n"
     ]
    }
   ],
   "source": [
    "\n",
    "\n",
    "\"\"\"\n",
    "def matching_percentage(user_input, target_str):\n",
    "    if not user_input or not target_str:\n",
    "        return 0\n",
    "    match_count = sum(1 for x, y in zip(user_input, target_str) if x == y)\n",
    "    percentage = (match_count / max(len(user_input), len(target_str))) * 100\n",
    "    return percentage\n",
    "\n",
    "user_input = \"hello \"\n",
    "target_str = \"hallo\"\n",
    "\n",
    "percentage = matching_percentage(user_input, target_str)\n",
    "print(f\"{percentage: .2f}%\")\n",
    "\n",
    "if percentage > 70:\n",
    "    print(\"great\")\n",
    "elif percentage < 70:\n",
    "    print(\"bad\")\n",
    "\n",
    "\"\"\"\n",
    "\n",
    "def check_input(words_input):\n",
    "    length = len(words_input)\n",
    "    if words_input[0] == \"list\":        #2\n",
    "        if length <= 6:\n",
    "            return 1\n",
    "        else:\n",
    "            return 4\n",
    "    elif words_input[0] == \"in\" and words_input[length-1] == \"discussed\":        #1\n",
    "        return 2\n",
    "    elif words_input[0] == \"which\":     #2\n",
    "        if length >= 8:\n",
    "            return 3\n",
    "        elif length <= 6:\n",
    "            return 12\n",
    "    elif words_input[0] == \"how\":       #1\n",
    "        return 6\n",
    "    elif words_input[0] == \"for\" and words_input[length-1] == \"available\":       #1\n",
    "        return 7\n",
    "    elif words_input[0] == \"detail\":    #1\n",
    "        return 8\n",
    "    elif words_input[0] == \"what\":      #4\n",
    "        if words_input[1] == \"reading\":\n",
    "            return 9\n",
    "        elif words_input[1] == \"competencies\":\n",
    "            return 10\n",
    "        elif words_input[1] == \"grades\":\n",
    "            return 11\n",
    "        elif words_input[length - 1].isdigit(): \n",
    "            return 5\n",
    "    elif words_input[0] == \"print\" and words_input[length-1] == \"grades\":     #1\n",
    "        return 13\n",
    "\n",
    "user_input = \"print grades\"\n",
    "words_input = user_input.split()\n",
    "\n",
    "print(str(check_input(words_input)))\n",
    "\n",
    "\n"
   ]
  },
  {
   "cell_type": "code",
   "execution_count": null,
   "metadata": {},
   "outputs": [],
   "source": [
    "user_input = input()\n",
    "\n",
    "words = user_input.split()\n",
    "user_input = user_input.lower()\n",
    "\n",
    "\n",
    "\"\"\"\n",
    "Need to fix for prompts with similar inputs.\n",
    "Use lower case\n",
    "To Do:\n",
    "Change so it checks by words instead of by sentences.\n",
    "\n",
    "\"\"\"\n",
    "def construct_query(user_input):\n",
    "    if \"list all courses offered by\" or \"list all courses offered by \"in user_input:\n",
    "        query = f\"\"\"\n",
    "            SELECT ?course\n",
    "            WHERE{{\n",
    "                ?course rdf:type university.Course;\n",
    "                        university:offeredBy ?university.\n",
    "                ?unversity foaf:name \"{university_name}\".\n",
    "            }}\n",
    "            \"\"\"\n",
    "    elif \"in which course\" or \"in which course \" in user_input:\n",
    "        query = f\"\"\"\n",
    "            SELECT ?course\n",
    "            WHERE{{\n",
    "                \n",
    "            }}\n",
    "            \"\"\"\n",
    "    elif \"\"in user_input:\n",
    "        query = f\"\"\"\n",
    "            SELECT ?course\n",
    "            WHERE{{\n",
    "                ?course rdf:type university.Course;\n",
    "                        university:offeredBy ?university.\n",
    "                ?unversity foaf:name \"{university_name}\".\n",
    "                FILTER(?subject)\n",
    "            }}\n",
    "            \"\"\"\n",
    "    elif \"list all \" in user_input:\n",
    "        query = f\"\"\"\n",
    "            \"\"\"\n",
    "    elif \"what\" in user_input:\n",
    "        query = f\"\"\"\n",
    "            \"\"\"\n",
    "    elif \"how many credits\" or \"how many credits \" in user_input:\n",
    "        query = f\"\"\"\n",
    "            SELECT ?credits\n",
    "            WHERE{{\n",
    "                <{full_course_uri}> rdfLtype university:Course;\n",
    "                    university credits ?credits.\n",
    "            }}\n",
    "            \"\"\"\n",
    "    elif \"for\" or \"for \"in user_input:\n",
    "        query = f\"\"\"\n",
    "            \"\"\"\n",
    "    elif \"detail the content\" or \"detail the content \" in user_input:\n",
    "        query = f\"\"\"\n",
    "            \"\"\"\n",
    "    elif \"what reading materials\" or \"what reading materials \" in user_input:\n",
    "        query = f\"\"\"\n",
    "            \"\"\"\n",
    "    elif \"what competencies\" or \"what competencies \"in user_input:\n",
    "        query = f\"\"\"\n",
    "            \"\"\"\n",
    "    elif \"what grades did\" or \"what grades did \" in user_input:\n",
    "        query = f\"\"\"\n",
    "            \"\"\"\n",
    "    elif in user_input:\n",
    "        query = f\"\"\"\n",
    "            \"\"\"\n",
    "    elif \"print a transcript\" or \"print a transcript \" in user_input:\n",
    "        query = f\"\"\"\n",
    "                SELECT ?property ?va;ue\n",
    "                WHERE{{\n",
    "                    <{student_uri}> ?property ? value.\n",
    "                }}\n",
    "            \"\"\"\n",
    "    else:\n",
    "        print(\"I am sorry, I do not understand.\")\n",
    "        #exit()\n",
    "    return query"
   ]
  },
  {
   "cell_type": "code",
   "execution_count": 1,
   "metadata": {},
   "outputs": [
    {
     "name": "stdout",
     "output_type": "stream",
     "text": [
      "Collecting pandasNote: you may need to restart the kernel to use updated packages.\n",
      "\n",
      "  Downloading pandas-2.2.1-cp310-cp310-win_amd64.whl (11.6 MB)\n",
      "     --------------------------------------- 11.6/11.6 MB 16.4 MB/s eta 0:00:00\n",
      "Collecting tzdata>=2022.7\n",
      "  Downloading tzdata-2024.1-py2.py3-none-any.whl (345 kB)\n",
      "     ------------------------------------- 345.4/345.4 kB 10.8 MB/s eta 0:00:00\n",
      "Requirement already satisfied: numpy<2,>=1.22.4 in c:\\users\\huy-l\\appdata\\local\\programs\\python\\python310\\lib\\site-packages (from pandas) (1.24.3)\n",
      "Requirement already satisfied: python-dateutil>=2.8.2 in c:\\users\\huy-l\\appdata\\roaming\\python\\python310\\site-packages (from pandas) (2.9.0.post0)\n",
      "Collecting pytz>=2020.1\n",
      "  Downloading pytz-2024.1-py2.py3-none-any.whl (505 kB)\n",
      "     ------------------------------------- 505.5/505.5 kB 31.0 MB/s eta 0:00:00\n",
      "Requirement already satisfied: six>=1.5 in c:\\users\\huy-l\\appdata\\roaming\\python\\python310\\site-packages (from python-dateutil>=2.8.2->pandas) (1.16.0)\n",
      "Installing collected packages: pytz, tzdata, pandas\n",
      "Successfully installed pandas-2.2.1 pytz-2024.1 tzdata-2024.1\n"
     ]
    },
    {
     "name": "stderr",
     "output_type": "stream",
     "text": [
      "\n",
      "[notice] A new release of pip available: 22.3.1 -> 24.0\n",
      "[notice] To update, run: python.exe -m pip install --upgrade pip\n"
     ]
    }
   ],
   "source": [
    "pip install pandas"
   ]
  },
  {
   "cell_type": "code",
   "execution_count": 38,
   "metadata": {},
   "outputs": [
    {
     "name": "stdout",
     "output_type": "stream",
     "text": [
      "  First Name Last Name        ID Subject  Subject_ID Grade\n",
      "0      Jimmy      Tran  40076313    COMP         474     B\n",
      "1      Jimmy      Tran  40076313    COMP         472    B-\n",
      "2      Jimmy      Tran  40076313    AERO         417     B\n",
      "3      Jimmy      Tran  40076313    COEN         451    D+\n",
      "4   Philippe  Bertrand  40157540    COMP         474     A\n"
     ]
    }
   ],
   "source": [
    "#Reading CSV file\n",
    "import pandas as pd\n",
    "file_path = \"data/students_grades.csv\"\n",
    "df = pd.read_csv(file_path)\n",
    "\n",
    "print(df.head())\n",
    "df_fname = df['First Name']\n",
    "df_lname = df['Last Name']\n",
    "df_id = df['ID']\n",
    "df_subject = df['Subject']\n",
    "df_subject_id = df['Subject_ID']\n",
    "df_grade = df['Grade']\n",
    "\n",
    "#print(df['First Name'])\n",
    "#t = df['First Name']\n",
    "#print(df_fname[4])"
   ]
  },
  {
   "cell_type": "code",
   "execution_count": 37,
   "metadata": {},
   "outputs": [],
   "source": [
    "length = len(df_fname)\n",
    "\n",
    "#for i in range (length):\n",
    "    #print(df_fname[i])\n"
   ]
  },
  {
   "cell_type": "code",
   "execution_count": 46,
   "metadata": {},
   "outputs": [
    {
     "name": "stdout",
     "output_type": "stream",
     "text": [
      "http://example.org/person/JimmyTran\n"
     ]
    },
    {
     "ename": "AssertionError",
     "evalue": "Subject [rdflib.term.URIRef('http://example.org/person/JimmyTran')] must be an rdflib term",
     "output_type": "error",
     "traceback": [
      "\u001b[1;31m---------------------------------------------------------------------------\u001b[0m",
      "\u001b[1;31mAssertionError\u001b[0m                            Traceback (most recent call last)",
      "Cell \u001b[1;32mIn[46], line 36\u001b[0m\n\u001b[0;32m     31\u001b[0m \u001b[38;5;28mprint\u001b[39m(student_uri[\u001b[38;5;241m0\u001b[39m])\n\u001b[0;32m     33\u001b[0m \u001b[38;5;66;03m#student_uri = person[df_fname[0]+df_lname[0]]\u001b[39;00m\n\u001b[0;32m     34\u001b[0m \u001b[38;5;66;03m#print(student_uri)\u001b[39;00m\n\u001b[1;32m---> 36\u001b[0m \u001b[43mg\u001b[49m\u001b[38;5;241;43m.\u001b[39;49m\u001b[43madd\u001b[49m\u001b[43m(\u001b[49m\u001b[43m(\u001b[49m\u001b[43mstudent_uri\u001b[49m\u001b[43m,\u001b[49m\u001b[43m \u001b[49m\u001b[43mperson\u001b[49m\u001b[38;5;241;43m.\u001b[39;49m\u001b[43mhasTakenbCourse\u001b[49m\u001b[43m,\u001b[49m\u001b[43m \u001b[49m\u001b[43mcourse_uri\u001b[49m\u001b[43m)\u001b[49m\u001b[43m)\u001b[49m\n\u001b[0;32m     37\u001b[0m g\u001b[38;5;241m.\u001b[39madd((student_uri, course\u001b[38;5;241m.\u001b[39mcourseGrade, Literal(\u001b[38;5;124m\"\u001b[39m\u001b[38;5;124mB+\u001b[39m\u001b[38;5;124m\"\u001b[39m)))\n\u001b[0;32m     39\u001b[0m \u001b[38;5;124;03m\"\"\"\u001b[39;00m\n\u001b[0;32m     40\u001b[0m \u001b[38;5;124;03mfor i in range(4):\u001b[39;00m\n\u001b[0;32m     41\u001b[0m \u001b[38;5;124;03m    fname = df['First Name']\u001b[39;00m\n\u001b[1;32m   (...)\u001b[0m\n\u001b[0;32m     57\u001b[0m \u001b[38;5;124;03mprint(g.value(Student))\u001b[39;00m\n\u001b[0;32m     58\u001b[0m \u001b[38;5;124;03m\"\"\"\u001b[39;00m\n",
      "File \u001b[1;32mc:\\Users\\Huy-L\\AppData\\Local\\Programs\\Python\\Python310\\lib\\site-packages\\rdflib\\graph.py:530\u001b[0m, in \u001b[0;36mGraph.add\u001b[1;34m(self, triple)\u001b[0m\n\u001b[0;32m    528\u001b[0m \u001b[38;5;250m\u001b[39m\u001b[38;5;124;03m\"\"\"Add a triple with self as context\"\"\"\u001b[39;00m\n\u001b[0;32m    529\u001b[0m s, p, o \u001b[38;5;241m=\u001b[39m triple\n\u001b[1;32m--> 530\u001b[0m \u001b[38;5;28;01massert\u001b[39;00m \u001b[38;5;28misinstance\u001b[39m(s, Node), \u001b[38;5;124m\"\u001b[39m\u001b[38;5;124mSubject \u001b[39m\u001b[38;5;132;01m%s\u001b[39;00m\u001b[38;5;124m must be an rdflib term\u001b[39m\u001b[38;5;124m\"\u001b[39m \u001b[38;5;241m%\u001b[39m (s,)\n\u001b[0;32m    531\u001b[0m \u001b[38;5;28;01massert\u001b[39;00m \u001b[38;5;28misinstance\u001b[39m(p, Node), \u001b[38;5;124m\"\u001b[39m\u001b[38;5;124mPredicate \u001b[39m\u001b[38;5;132;01m%s\u001b[39;00m\u001b[38;5;124m must be an rdflib term\u001b[39m\u001b[38;5;124m\"\u001b[39m \u001b[38;5;241m%\u001b[39m (p,)\n\u001b[0;32m    532\u001b[0m \u001b[38;5;28;01massert\u001b[39;00m \u001b[38;5;28misinstance\u001b[39m(o, Node), \u001b[38;5;124m\"\u001b[39m\u001b[38;5;124mObject \u001b[39m\u001b[38;5;132;01m%s\u001b[39;00m\u001b[38;5;124m must be an rdflib term\u001b[39m\u001b[38;5;124m\"\u001b[39m \u001b[38;5;241m%\u001b[39m (o,)\n",
      "\u001b[1;31mAssertionError\u001b[0m: Subject [rdflib.term.URIRef('http://example.org/person/JimmyTran')] must be an rdflib term"
     ]
    }
   ],
   "source": [
    "from rdflib import URIRef, BNode, Literal, Namespace, Graph\n",
    "from rdflib.namespace import FOAF, RDF, RDFS\n",
    "\n",
    "\n",
    "g = Graph()\n",
    "\n",
    "#Building knowledge graph\n",
    "university = Namespace(\"https://www.wikidata.org/wiki/Q326342\")\n",
    "course = Namespace(\"http://example.org/course/\")\n",
    "person = Namespace(\"http://example.org/person/\")\n",
    "\n",
    "#Defining Resources\n",
    "g.add((university.University, RDF.type, RDFS.Class))\n",
    "g.add((university.Course, RDF.type, RDFS.Class))\n",
    "g.add((university.Lecture, RDF.type, RDFS.Class))\n",
    "g.add((university.Assignment, RDF.type, RDFS.Class))\n",
    "g.add((university.Exam, RDF.type, RDFS.Class))\n",
    "g.add((person.Student, RDF.type, RDFS.Class))\n",
    "\n",
    "\n",
    "g.add((person.hasTakenCourse, RDF.type, RDF.Property))\n",
    "g.add((person.hasTakenCourse, RDFS.domain, person.Student))\n",
    "g.add((person.hasTakenCourse, RDFS.range, person.Course))\n",
    "\n",
    "g.add((person.gradeGrade, RDF.type, RDF.Property))\n",
    "g.add((person.gradeGrade, RDFS.domain, person.Student))\n",
    "\n",
    "\n",
    "student_uri = [person[df_fname[0]+df_lname[0]]]\n",
    "print(student_uri[0])\n",
    "g.add((student_uri[0], RDF.type, RDFS.Class))\n",
    "\n",
    "#student_uri = person[df_fname[0]+df_lname[0]]\n",
    "#print(student_uri)\n",
    "\n",
    "g.add((student_uri[0], person.hasTakenbCourse, course_uri))\n",
    "g.add((student_uri, course.courseGrade, Literal(\"B+\")))\n",
    "\n",
    "#\"\"\"\n",
    "for row in range (length):\n",
    "    student_uri = person[df_id[row]]\n",
    "    g.add((student_uri, RDF.type, person.Student))\n",
    "    g.add((student_uri, person.firstName, Literal(df_fname[row])))\n",
    "    g.add((student_uri, person.lastName, Literal(df_lname[row])))\n",
    "    g.add((student_uri, person.studentID, Literal(df_id[row])))\n",
    "\n",
    "    course_uri = course[df_subject[row]+df_subject_id[row]]\n",
    "    g.add((course_uri, RDF.type, course.Course))\n",
    "    g.add((course_uri, course.subject, Literal(df_subject[row])))\n",
    "    g.add((course_uri, course.courseCode, Literal(df_subject_id[row])))\n",
    "\n",
    "    g.add((student_uri, takenCourse, course_uri))\n",
    "    g.add((course_uri, hasStudent, student_uri))\n",
    "    g.add((student_uri, hasGrade, Literal(df_grade[row])))\n",
    "#\"\"\"\n",
    "\n",
    "\n",
    "g.parse(\"existing.ttl\", format='turtle')\n",
    "\n",
    "\n",
    "\n",
    "\n",
    "\n",
    "g.serialize(destination='example.ttl', format='turtle')\n",
    "\n"
   ]
  },
  {
   "cell_type": "code",
   "execution_count": null,
   "metadata": {},
   "outputs": [],
   "source": [
    "#Creating Triples"
   ]
  }
 ],
 "metadata": {
  "kernelspec": {
   "display_name": "Python 3",
   "language": "python",
   "name": "python3"
  },
  "language_info": {
   "codemirror_mode": {
    "name": "ipython",
    "version": 3
   },
   "file_extension": ".py",
   "mimetype": "text/x-python",
   "name": "python",
   "nbconvert_exporter": "python",
   "pygments_lexer": "ipython3",
   "version": "3.10.10"
  }
 },
 "nbformat": 4,
 "nbformat_minor": 2
}
