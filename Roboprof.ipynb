{
 "cells": [
  {
   "cell_type": "markdown",
   "metadata": {},
   "source": [
    "**COMP474 PROJECT ASSIGNMENT 1**"
   ]
  },
  {
   "cell_type": "code",
   "execution_count": 2,
   "metadata": {},
   "outputs": [
    {
     "name": "stdout",
     "output_type": "stream",
     "text": [
      "Requirement already satisfied: rdflib in c:\\users\\huy-l\\anaconda3\\lib\\site-packages (6.3.2)\n",
      "Requirement already satisfied: pyparsing<4,>=2.1.0 in c:\\users\\huy-l\\anaconda3\\lib\\site-packages (from rdflib) (2.4.0)\n",
      "Requirement already satisfied: importlib-metadata<5.0.0,>=4.0.0; python_version >= \"3.7\" and python_version < \"3.8\" in c:\\users\\huy-l\\anaconda3\\lib\\site-packages (from rdflib) (4.13.0)\n",
      "Requirement already satisfied: isodate<0.7.0,>=0.6.0 in c:\\users\\huy-l\\anaconda3\\lib\\site-packages (from rdflib) (0.6.1)\n",
      "Requirement already satisfied: zipp>=0.5 in c:\\users\\huy-l\\anaconda3\\lib\\site-packages (from importlib-metadata<5.0.0,>=4.0.0; python_version >= \"3.7\" and python_version < \"3.8\"->rdflib) (0.5.1)\n",
      "Requirement already satisfied: typing-extensions>=3.6.4; python_version < \"3.8\" in c:\\users\\huy-l\\anaconda3\\lib\\site-packages (from importlib-metadata<5.0.0,>=4.0.0; python_version >= \"3.7\" and python_version < \"3.8\"->rdflib) (4.7.1)\n",
      "Requirement already satisfied: six in c:\\users\\huy-l\\anaconda3\\lib\\site-packages (from isodate<0.7.0,>=0.6.0->rdflib) (1.12.0)\n",
      "Note: you may need to restart the kernel to use updated packages.\n"
     ]
    }
   ],
   "source": [
    "pip install rdflib"
   ]
  },
  {
   "cell_type": "code",
   "execution_count": null,
   "metadata": {},
   "outputs": [],
   "source": [
    "from rdflib import URIRef, BNode, Literal, Namespace, Graph\n",
    "from rdflib.namespace import FOAF, RDF"
   ]
  },
  {
   "cell_type": "code",
   "execution_count": null,
   "metadata": {},
   "outputs": [],
   "source": []
  }
 ],
 "metadata": {
  "kernelspec": {
   "display_name": "Python 3",
   "language": "python",
   "name": "python3"
  },
  "language_info": {
   "codemirror_mode": {
    "name": "ipython",
    "version": 3
   },
   "file_extension": ".py",
   "mimetype": "text/x-python",
   "name": "python",
   "nbconvert_exporter": "python",
   "pygments_lexer": "ipython3",
   "version": "3.7.3"
  }
 },
 "nbformat": 4,
 "nbformat_minor": 2
}
